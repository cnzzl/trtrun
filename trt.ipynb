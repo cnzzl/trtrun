{
 "cells": [
  {
   "cell_type": "code",
   "execution_count": null,
   "metadata": {},
   "outputs": [],
   "source": [
    "trtexec --onnx=model.onnx --saveEngine=your_model.trt --fp16"
   ]
  },
  {
   "cell_type": "code",
   "execution_count": 2,
   "metadata": {},
   "outputs": [],
   "source": [
    "import subprocess\n",
    "\n",
    "# 定义exe文件的路径和参数\n",
    "exe_path = \"C:/Users/Administrator/trtexec.exe\"\n",
    "arguments = [\"--onnx=model.onnx\", \"--saveEngine=your_model.trt\", \"--fp16\"]\n",
    "\n",
    "# 构建完整的命令列表，第一个元素是可执行文件的路径，后面是参数\n",
    "command = [exe_path] + arguments\n",
    "\n",
    "try:\n",
    "    # 使用subprocess.run来执行命令\n",
    "    result = subprocess.run(command, check=True, capture_output=True, text=True)\n",
    "    \n",
    "    # 打印命令的输出\n",
    "    print(\"Standard Output:\")\n",
    "    print(result.stdout)\n",
    "    \n",
    "    # 打印命令的错误输出（如果有）\n",
    "    print(\"Standard Error:\")\n",
    "    print(result.stderr)\n",
    "    \n",
    "except subprocess.CalledProcessError as e:\n",
    "    print(f\"The command failed with return code {e.returncode}\")\n",
    "    print(f\"Error Output: {e.stderr}\")"
   ]
  }
 ],
 "metadata": {
  "kernelspec": {
   "display_name": "anomalib",
   "language": "python",
   "name": "python3"
  },
  "language_info": {
   "codemirror_mode": {
    "name": "ipython",
    "version": 3
   },
   "file_extension": ".py",
   "mimetype": "text/x-python",
   "name": "python",
   "nbconvert_exporter": "python",
   "pygments_lexer": "ipython3",
   "version": "3.10.13"
  },
  "orig_nbformat": 4
 },
 "nbformat": 4,
 "nbformat_minor": 2
}
